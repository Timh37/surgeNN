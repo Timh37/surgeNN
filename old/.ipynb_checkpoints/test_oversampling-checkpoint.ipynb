{
 "cells": [
  {
   "cell_type": "code",
   "execution_count": 1,
   "id": "d1428583-b5a4-4833-bb48-c8802ce4f611",
   "metadata": {
    "tags": []
   },
   "outputs": [
    {
     "name": "stderr",
     "output_type": "stream",
     "text": [
      "2024-09-13 10:40:36.773578: I tensorflow/core/platform/cpu_feature_guard.cc:193] This TensorFlow binary is optimized with oneAPI Deep Neural Network Library (oneDNN) to use the following CPU instructions in performance-critical operations:  SSE4.1 SSE4.2 AVX AVX2 FMA\n",
      "To enable them in other operations, rebuild TensorFlow with the appropriate compiler flags.\n"
     ]
    },
    {
     "name": "stdout",
     "output_type": "stream",
     "text": [
      "Original dataset shape Counter({1: 900, 0: 100})\n",
      "Resampled dataset shape Counter({0: 900, 1: 900})\n"
     ]
    }
   ],
   "source": [
    "from collections import Counter\n",
    "import numpy as np\n",
    "from sklearn.datasets import make_classification\n",
    "from imblearn.over_sampling import RandomOverSampler\n",
    "from surgeNN.io import load_predictand,load_predictors\n",
    "from target_relevance import TargetRelevance #if starting with a clean environment, first, in terminal, do->'mamba install kdepy'\n",
    "from surgeNN.preprocessing import get_denseloss_weights\n",
    "import matplotlib.pyplot as plt\n",
    "X, y = make_classification(n_classes=2, class_sep=2,\n",
    "weights=[0.1, 0.9], n_informative=3, n_redundant=1, flip_y=0,\n",
    "n_features=20, n_clusters_per_class=1, n_samples=1000, random_state=10)\n",
    "print('Original dataset shape %s' % Counter(y))\n",
    "ros = RandomOverSampler(random_state=42)\n",
    "X_res, y_res = ros.fit_resample(X, y)\n",
    "print('Resampled dataset shape %s' % Counter(y_res))\n",
    "\n",
    "temp_freq=3\n",
    "tg = 'stavanger-svg-nor-nhs.csv'"
   ]
  },
  {
   "cell_type": "code",
   "execution_count": 2,
   "id": "40cc6b60-b94b-4f86-9397-28e6751bb408",
   "metadata": {
    "tags": []
   },
   "outputs": [],
   "source": [
    "y = load_predictand('/home/jovyan/test_surge_models/input/t_tide_'+str(temp_freq)+'h_anoms_deseasoned_predictands',tg)"
   ]
  },
  {
   "cell_type": "code",
   "execution_count": 3,
   "id": "623c54e9-ad99-4aa8-9336-94b3aa68d95b",
   "metadata": {
    "tags": []
   },
   "outputs": [],
   "source": [
    "surge = y.surge.values"
   ]
  },
  {
   "cell_type": "code",
   "execution_count": 4,
   "id": "4ca4d10a-d854-4ac2-a96c-dcb91d6ea778",
   "metadata": {
    "tags": []
   },
   "outputs": [
    {
     "data": {
      "text/plain": [
       "0.3507535985160458"
      ]
     },
     "execution_count": 4,
     "metadata": {},
     "output_type": "execute_result"
    }
   ],
   "source": [
    "threshold = np.nanpercentile(surge,99)\n",
    "threshold"
   ]
  },
  {
   "cell_type": "code",
   "execution_count": 5,
   "id": "6c31eb29-86ba-461e-b3f3-b4de6c055b3c",
   "metadata": {
    "tags": []
   },
   "outputs": [],
   "source": [
    "surge_is_extreme = surge>threshold\n",
    "extreme_surge = surge[surge_is_extreme]"
   ]
  },
  {
   "cell_type": "code",
   "execution_count": 6,
   "id": "41a4f247-d4ef-4e1e-afca-7783ac99a1c6",
   "metadata": {
    "tags": []
   },
   "outputs": [
    {
     "data": {
      "text/plain": [
       "(2483,)"
      ]
     },
     "execution_count": 6,
     "metadata": {},
     "output_type": "execute_result"
    }
   ],
   "source": [
    "extreme_surge.shape"
   ]
  },
  {
   "cell_type": "code",
   "execution_count": 7,
   "id": "12c7aa91-e7cf-4083-b20d-6ed98ab60328",
   "metadata": {
    "tags": []
   },
   "outputs": [],
   "source": [
    "w = get_denseloss_weights(surge,3)"
   ]
  },
  {
   "cell_type": "code",
   "execution_count": null,
   "id": "e187416e-a5e9-4509-a26a-34930675a01c",
   "metadata": {},
   "outputs": [],
   "source": [
    "new_w = np.sqrt(max(surge/threshold,1))"
   ]
  },
  {
   "cell_type": "code",
   "execution_count": 34,
   "id": "8400bfdd-49bb-46b2-8871-024ec4085c60",
   "metadata": {
    "tags": []
   },
   "outputs": [
    {
     "data": {
      "text/plain": [
       "array([11.61674885, 11.48184456, 11.6541276 , ..., 13.27493612,\n",
       "       12.9589862 , 11.41688455])"
      ]
     },
     "execution_count": 34,
     "metadata": {},
     "output_type": "execute_result"
    }
   ],
   "source": [
    "test = w[surge_is_extreme] * np.sqrt(extreme_surge/np.min(extreme_surge))\n",
    "test"
   ]
  },
  {
   "cell_type": "code",
   "execution_count": 40,
   "id": "15537c9e-68f6-4dd7-b11a-369879080f33",
   "metadata": {
    "tags": []
   },
   "outputs": [
    {
     "data": {
      "text/plain": [
       "0.8715263793797825"
      ]
     },
     "execution_count": 40,
     "metadata": {},
     "output_type": "execute_result"
    }
   ],
   "source": [
    "np.sum(extreme_surge[-500]>extreme_surge)/len(extreme_surge)"
   ]
  },
  {
   "cell_type": "code",
   "execution_count": 35,
   "id": "71e76ecf-d799-400a-ac0c-3c7269f77a74",
   "metadata": {
    "tags": []
   },
   "outputs": [
    {
     "data": {
      "text/plain": [
       "<matplotlib.collections.PathCollection at 0x7f537a298a60>"
      ]
     },
     "execution_count": 35,
     "metadata": {},
     "output_type": "execute_result"
    },
    {
     "data": {
      "image/png": "[encoded data removed]",
      "text/plain": [
       "<Figure size 640x480 with 1 Axes>"
      ]
     },
     "metadata": {},
     "output_type": "display_data"
    }
   ],
   "source": [
    "plt.figure()\n",
    "plt.scatter(surge,w)\n",
    "plt.axvline(x=threshold)\n",
    "plt.axvline(x=np.percentile(extreme_surge,75))\n",
    "plt.scatter(extreme_surge,test)"
   ]
  },
  {
   "cell_type": "code",
   "execution_count": 33,
   "id": "efd279f5-c0dd-4b7f-8b52-d98ab7a186e3",
   "metadata": {
    "tags": []
   },
   "outputs": [
    {
     "data": {
      "text/plain": [
       "1.4142135623730951"
      ]
     },
     "execution_count": 33,
     "metadata": {},
     "output_type": "execute_result"
    }
   ],
   "source": [
    "np.sqrt(2)"
   ]
  },
  {
   "cell_type": "code",
   "execution_count": 17,
   "id": "7526f850-9c7b-4977-8f87-43b4ac282b95",
   "metadata": {
    "tags": []
   },
   "outputs": [
    {
     "data": {
      "text/plain": [
       "<matplotlib.lines.Line2D at 0x7f544450e8c0>"
      ]
     },
     "execution_count": 17,
     "metadata": {},
     "output_type": "execute_result"
    },
    {
     "data": {
      "image/png": "[encoded data removed]",
      "text/plain": [
       "<Figure size 640x480 with 1 Axes>"
      ]
     },
     "metadata": {},
     "output_type": "display_data"
    }
   ],
   "source": [
    "plt.figure()\n",
    "plt.scatter(extreme_surge,wext)\n",
    "plt.axvline(x=threshold)\n",
    "plt.axvline(x=np.percentile(extreme_surge,75))"
   ]
  },
  {
   "cell_type": "code",
   "execution_count": null,
   "id": "7008473f-0f5f-4007-b98e-7fa863a9a3d8",
   "metadata": {},
   "outputs": [],
   "source": []
  }
 ],
 "metadata": {
  "kernelspec": {
   "display_name": "Python 3 (ipykernel)",
   "language": "python",
   "name": "python3"
  },
  "language_info": {
   "codemirror_mode": {
    "name": "ipython",
    "version": 3
   },
   "file_extension": ".py",
   "mimetype": "text/x-python",
   "name": "python",
   "nbconvert_exporter": "python",
   "pygments_lexer": "ipython3",
   "version": "3.10.10"
  }
 },
 "nbformat": 4,
 "nbformat_minor": 5
}
