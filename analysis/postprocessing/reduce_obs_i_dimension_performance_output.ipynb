{
 "cells": [
  {
   "cell_type": "code",
   "execution_count": 1,
   "id": "16157bc8-8867-4cdc-bd2e-9cd0f7f8069f",
   "metadata": {},
   "outputs": [
    {
     "name": "stderr",
     "output_type": "stream",
     "text": [
      "2025-05-08 07:50:50.515975: I tensorflow/core/platform/cpu_feature_guard.cc:193] This TensorFlow binary is optimized with oneAPI Deep Neural Network Library (oneDNN) to use the following CPU instructions in performance-critical operations:  SSE4.1 SSE4.2 AVX AVX2 AVX512F AVX512_VNNI FMA\n",
      "To enable them in other operations, rebuild TensorFlow with the appropriate compiler flags.\n",
      "2025-05-08 07:50:50.592235: I tensorflow/core/util/port.cc:104] oneDNN custom operations are on. You may see slightly different numerical results due to floating-point round-off errors from different computation orders. To turn them off, set the environment variable `TF_ENABLE_ONEDNN_OPTS=0`.\n"
     ]
    }
   ],
   "source": [
    "import xarray as xr\n",
    "import numpy as np\n",
    "import matplotlib.pyplot as plt\n",
    "from mpl_toolkits.axes_grid1.inset_locator import inset_axes\n",
    "import matplotlib\n",
    "import os\n",
    "from surgeNN.surgeNN.evaluation import rmse, compute_precision, compute_recall, compute_f1, add_error_metrics_to_prediction_ds\n",
    "from surgeNN.surgeNN.preprocessing import deseasonalize_da\n",
    "from scipy.stats import rankdata"
   ]
  },
  {
   "cell_type": "code",
   "execution_count": 2,
   "id": "c4ab3acc-77b5-4739-af2f-895abfd4a462",
   "metadata": {},
   "outputs": [],
   "source": [
    "#configure the script\n",
    "tgs        = ['stavanger-svg-nor-nhs.csv','wick-wic-gbr-bodc.csv','esbjerg-esb-dnk-dmi.csv','immingham-imm-gbr-bodc.csv','den_helder-denhdr-nld-rws.csv', 'fishguard-fis-gbr-bodc.csv',  'brest-822a-fra-uhslc.csv', 'vigo-vigo-esp-ieo.csv',  'alicante_i_outer_harbour-alio-esp-da_mm.csv']\n",
    "tgnames = ['Stavanger (NOR)','Wick (UK)', 'Esbjerg (DK)','Immingham (UK)','Den Helder (NL)','Fishguard (UK)','Brest (FR)','Vigo (PT)', 'Alicante (SP)']\n",
    "\n",
    "qnts = np.array([.95,.98,.99,.995]) #quantiles, don't touch"
   ]
  },
  {
   "cell_type": "markdown",
   "id": "4aa2682f-ab17-4e6d-b24f-bc899bdd626f",
   "metadata": {},
   "source": [
    "Remove 'i' dimension from obs if n_steps is constant (this is the only factor that could change obs for different i)\n",
    "\n",
    "**be careful as this overwrites results!**"
   ]
  },
  {
   "cell_type": "code",
   "execution_count": 3,
   "id": "a4ff1d66-4d8d-432f-8039-d26383bdf347",
   "metadata": {
    "tags": []
   },
   "outputs": [
    {
     "name": "stdout",
     "output_type": "stream",
     "text": [
      "current_file:lstm_3h_den_helder-denhdr-nld-rws_mse_hp1_it3.nc\n",
      "current_file:lstm_3h_immingham-imm-gbr-bodc_mse_hp1_it2.nc\n",
      "current_file:lstm_3h_vigo-vigo-esp-ieo_mse_hp1_it2.nc\n",
      "current_file:lstm_3h_esbjerg-esb-dnk-dmi_mse_hp1_it2.nc\n",
      "current_file:lstm_3h_wick-wic-gbr-bodc_mse_hp1_it1.nc\n",
      "current_file:lstm_3h_immingham-imm-gbr-bodc_mse_hp1_it3.nc\n",
      "current_file:lstm_3h_vigo-vigo-esp-ieo_mse_hp1_it3.nc\n",
      "current_file:lstm_3h_esbjerg-esb-dnk-dmi_mse_hp1_it3.nc\n",
      "current_file:lstm_3h_wick-wic-gbr-bodc_mse_hp1_it0.nc\n",
      "current_file:lstm_3h_wick-wic-gbr-bodc_mse_hp1_it4.nc\n",
      "current_file:lstm_3h_den_helder-denhdr-nld-rws_mse_hp1_it2.nc\n",
      "current_file:lstm_3h_alicante_i_outer_harbour-alio-esp-da_mm_mse_hp1_it2.nc\n",
      "current_file:lstm_3h_fishguard-fis-gbr-bodc_mse_hp1_ndeg1.5_it4.nc\n",
      "current_file:lstm_3h_esbjerg-esb-dnk-dmi_mse_hp1_ndeg1.5_it3.nc\n",
      "current_file:lstm_3h_fishguard-fis-gbr-bodc_mse_hp1_it2.nc\n",
      "current_file:lstm_3h_brest-822a-fra-uhslc_mse_hp1_it3.nc\n",
      "current_file:lstm_3h_fishguard-fis-gbr-bodc_mse_hp1_ndeg1.5_it0.nc\n",
      "current_file:lstm_3h_stavanger-svg-nor-nhs_mse_hp1_it1.nc\n",
      "current_file:lstm_3h_brest-822a-fra-uhslc_mse_hp1_it2.nc\n",
      "current_file:lstm_3h_fishguard-fis-gbr-bodc_mse_hp1_ndeg1.5_it1.nc\n",
      "current_file:lstm_3h_stavanger-svg-nor-nhs_mse_hp1_it0.nc\n",
      "current_file:lstm_3h_alicante_i_outer_harbour-alio-esp-da_mm_mse_hp1_it3.nc\n",
      "current_file:lstm_3h_esbjerg-esb-dnk-dmi_mse_hp1_ndeg1.5_it2.nc\n",
      "current_file:lstm_3h_stavanger-svg-nor-nhs_mse_hp1_it4.nc\n",
      "current_file:lstm_3h_fishguard-fis-gbr-bodc_mse_hp1_it3.nc\n",
      "current_file:lstm_3h_brest-822a-fra-uhslc_mse_hp1_it1.nc\n",
      "current_file:lstm_3h_alicante_i_outer_harbour-alio-esp-da_mm_mse_hp1_it4.nc\n",
      "current_file:lstm_3h_fishguard-fis-gbr-bodc_mse_hp1_ndeg1.5_it2.nc\n",
      "current_file:lstm_3h_fishguard-fis-gbr-bodc_mse_hp1_it4.nc\n",
      "current_file:lstm_3h_stavanger-svg-nor-nhs_mse_hp1_it3.nc\n",
      "current_file:lstm_3h_alicante_i_outer_harbour-alio-esp-da_mm_mse_hp1_it0.nc\n",
      "current_file:lstm_3h_esbjerg-esb-dnk-dmi_mse_hp1_ndeg1.5_it1.nc\n",
      "current_file:lstm_3h_fishguard-fis-gbr-bodc_mse_hp1_it0.nc\n",
      "current_file:lstm_3h_brest-822a-fra-uhslc_mse_hp1_it4.nc\n",
      "current_file:lstm_3h_alicante_i_outer_harbour-alio-esp-da_mm_mse_hp1_it1.nc\n",
      "current_file:lstm_3h_esbjerg-esb-dnk-dmi_mse_hp1_ndeg1.5_it0.nc\n",
      "current_file:lstm_3h_fishguard-fis-gbr-bodc_mse_hp1_it1.nc\n",
      "current_file:lstm_3h_brest-822a-fra-uhslc_mse_hp1_it0.nc\n",
      "current_file:lstm_3h_esbjerg-esb-dnk-dmi_mse_hp1_ndeg1.5_it4.nc\n",
      "current_file:lstm_3h_fishguard-fis-gbr-bodc_mse_hp1_ndeg1.5_it3.nc\n",
      "current_file:lstm_3h_stavanger-svg-nor-nhs_mse_hp1_it2.nc\n",
      "current_file:lstm_3h_immingham-imm-gbr-bodc_mse_hp1_it0.nc\n",
      "current_file:lstm_3h_vigo-vigo-esp-ieo_mse_hp1_it0.nc\n",
      "current_file:lstm_3h_esbjerg-esb-dnk-dmi_mse_hp1_it0.nc\n",
      "current_file:lstm_3h_wick-wic-gbr-bodc_mse_hp1_it3.nc\n",
      "current_file:lstm_3h_immingham-imm-gbr-bodc_mse_hp1_it4.nc\n",
      "current_file:lstm_3h_vigo-vigo-esp-ieo_mse_hp1_it4.nc\n",
      "current_file:lstm_3h_esbjerg-esb-dnk-dmi_mse_hp1_it4.nc\n",
      "current_file:lstm_3h_den_helder-denhdr-nld-rws_mse_hp1_it1.nc\n",
      "current_file:lstm_3h_den_helder-denhdr-nld-rws_mse_hp1_it0.nc\n",
      "current_file:lstm_3h_immingham-imm-gbr-bodc_mse_hp1_it1.nc\n",
      "current_file:lstm_3h_vigo-vigo-esp-ieo_mse_hp1_it1.nc\n",
      "current_file:lstm_3h_esbjerg-esb-dnk-dmi_mse_hp1_it1.nc\n",
      "current_file:lstm_3h_den_helder-denhdr-nld-rws_mse_hp1_it4.nc\n",
      "current_file:lstm_3h_wick-wic-gbr-bodc_mse_hp1_it2.nc\n"
     ]
    }
   ],
   "source": [
    "path = '/home/jovyan/test_surge_models/results/nns/performance/lstm'\n",
    "files = os.listdir(path)\n",
    "for f in files:\n",
    "    if f.startswith('.') == False:\n",
    "        print('current_file:' +f)\n",
    "        ds = xr.open_dataset(os.path.join(path,f))\n",
    "\n",
    "        if len(np.unique(ds.hyperparameters.sel(p='n_steps').isel(split=0,drop=True)))==1: #all nsteps equal\n",
    "            ds['o'] = ds['o'].isel(i=0,drop=True)\n",
    "\n",
    "            ds.to_netcdf(os.path.join(path,f.replace('.nc','_v2.nc')),mode='w') #store new dataset\n",
    "            del ds\n",
    "            os.remove(os.path.join(path,f)) #delete old file\n",
    "            os.rename(os.path.join(path,f.replace('.nc','_v2.nc')),os.path.join(path,f))#rename new file"
   ]
  },
  {
   "cell_type": "code",
   "execution_count": null,
   "id": "9dfa74ee-f773-4237-884d-3097ab7d00a2",
   "metadata": {},
   "outputs": [],
   "source": []
  }
 ],
 "metadata": {
  "kernelspec": {
   "display_name": "Python 3 (ipykernel)",
   "language": "python",
   "name": "python3"
  },
  "language_info": {
   "codemirror_mode": {
    "name": "ipython",
    "version": 3
   },
   "file_extension": ".py",
   "mimetype": "text/x-python",
   "name": "python",
   "nbconvert_exporter": "python",
   "pygments_lexer": "ipython3",
   "version": "3.10.10"
  }
 },
 "nbformat": 4,
 "nbformat_minor": 5
}
