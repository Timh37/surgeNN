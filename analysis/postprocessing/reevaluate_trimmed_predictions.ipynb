{
 "cells": [
  {
   "cell_type": "code",
   "execution_count": 1,
   "id": "16157bc8-8867-4cdc-bd2e-9cd0f7f8069f",
   "metadata": {},
   "outputs": [],
   "source": [
    "import xarray as xr\n",
    "import numpy as np\n",
    "import os\n",
    "import sys\n",
    "sys.path.append(\"../..\")\n",
    "from surgeNN.evaluation import add_error_metrics_to_prediction_ds\n",
    "import gcsfs\n",
    "fs = gcsfs.GCSFileSystem()"
   ]
  },
  {
   "cell_type": "markdown",
   "id": "a079509b-2a16-4963-8358-bd8fa2ceb0bb",
   "metadata": {},
   "source": [
    "Script intended to correct original output for alignment with GTSM simulations with stop slightly earlier than the end of 2017:"
   ]
  },
  {
   "cell_type": "code",
   "execution_count": 6,
   "id": "c4ab3acc-77b5-4739-af2f-895abfd4a462",
   "metadata": {},
   "outputs": [],
   "source": [
    "#configure the script\n",
    "tgs        = ['stavanger-svg-nor-nhs.csv','wick-wic-gbr-bodc.csv','esbjerg-esb-dnk-dmi.csv','immingham-imm-gbr-bodc.csv','den_helder-denhdr-nld-rws.csv', 'fishguard-fis-gbr-bodc.csv',  'brest-822a-fra-uhslc.csv', 'vigo-vigo-esp-ieo.csv',  'alicante_i_outer_harbour-alio-esp-da_mm.csv']\n",
    "tgnames = ['Stavanger (NOR)','Wick (UK)', 'Esbjerg (DK)','Immingham (UK)','Den Helder (NL)','Fishguard (UK)','Brest (FR)','Vigo (PT)', 'Alicante (SP)']\n",
    "\n",
    "qnts = np.array([.95,.98,.99,.995]) #quantiles, don't touch"
   ]
  },
  {
   "cell_type": "markdown",
   "id": "4aa2682f-ab17-4e6d-b24f-bc899bdd626f",
   "metadata": {},
   "source": [
    "Correct performance output datasets that were based on 10 more timesteps at the end of 2017 than GTSM:\n",
    "**be careful as this overwrites results!**"
   ]
  },
  {
   "cell_type": "markdown",
   "id": "3166d091-564c-435f-86a2-c8006f119db5",
   "metadata": {
    "tags": []
   },
   "source": [
    "#MLR\n",
    "path = '/home/jovyan/test_surge_models/results/mlr_4x4/performance'\n",
    "files = os.listdir(path)\n",
    "for f in files:\n",
    "    if f.startswith('.') == False:\n",
    "        print('current_file:' +f)\n",
    "        ds = xr.open_dataset(os.path.join(path,f)).load()\n",
    "        \n",
    "        #1\n",
    "        ds = ds.drop_vars(['true_pos_self','true_neg_self','false_pos_self','false_neg_self',\n",
    "                            'precision_self','recall_self','f1_self'],errors='ignore')\n",
    "        \n",
    "        #2\n",
    "        if 'max_timesteps_between_extremes' in ds:\n",
    "            print('\"max_timesteps_between_extremes\" is already a dimension, file already updated? Skipping.')\n",
    "        else:   \n",
    "            for metric in ['r_extremes','rmse_extremes','true_pos','false_neg','false_pos','true_neg','precision','recall','f1']:\n",
    "                ds[metric] = ds[metric].expand_dims(dim='max_timesteps_between_extremes') #add additional dimension for max time distance used between \n",
    "\n",
    "            ds['max_timesteps_between_extremes'] = [-1]\n",
    "\n",
    "            ds_max_dist_3 = add_error_metrics_to_prediction_ds(ds.copy(deep=True),qnts,3)\n",
    "            ds_new = xr.merge((ds,ds_max_dist_3))\n",
    "\n",
    "            ds.close()\n",
    "            ds_new.to_netcdf(os.path.join(path,f.replace('.nc','_v2.nc')),mode='w') #store new dataset\n",
    "            del ds,ds_new\n",
    "            \n",
    "            os.remove(os.path.join(path,f)) #delete old file\n",
    "            os.rename(os.path.join(path,f.replace('.nc','_v2.nc')),os.path.join(path,f))#rename new file"
   ]
  },
  {
   "cell_type": "code",
   "execution_count": 3,
   "id": "a4ff1d66-4d8d-432f-8039-d26383bdf347",
   "metadata": {
    "tags": []
   },
   "outputs": [
    {
     "name": "stdout",
     "output_type": "stream",
     "text": [
      "current_file:leap-persistent/timh37/surgeNN_output/nns/performance_modified/lstm/lstm_3h_alicante_i_outer_harbour-alio-esp-da_mm_mse_hp1_it0.zarr\n",
      "current_file:leap-persistent/timh37/surgeNN_output/nns/performance_modified/lstm/lstm_3h_alicante_i_outer_harbour-alio-esp-da_mm_mse_hp1_it1.zarr\n",
      "current_file:leap-persistent/timh37/surgeNN_output/nns/performance_modified/lstm/lstm_3h_alicante_i_outer_harbour-alio-esp-da_mm_mse_hp1_it2.zarr\n",
      "current_file:leap-persistent/timh37/surgeNN_output/nns/performance_modified/lstm/lstm_3h_alicante_i_outer_harbour-alio-esp-da_mm_mse_hp1_it3.zarr\n",
      "current_file:leap-persistent/timh37/surgeNN_output/nns/performance_modified/lstm/lstm_3h_alicante_i_outer_harbour-alio-esp-da_mm_mse_hp1_it4.zarr\n",
      "current_file:leap-persistent/timh37/surgeNN_output/nns/performance_modified/lstm/lstm_3h_brest-822a-fra-uhslc_mse_hp1_it0.zarr\n",
      "current_file:leap-persistent/timh37/surgeNN_output/nns/performance_modified/lstm/lstm_3h_brest-822a-fra-uhslc_mse_hp1_it1.zarr\n",
      "current_file:leap-persistent/timh37/surgeNN_output/nns/performance_modified/lstm/lstm_3h_brest-822a-fra-uhslc_mse_hp1_it2.zarr\n",
      "current_file:leap-persistent/timh37/surgeNN_output/nns/performance_modified/lstm/lstm_3h_brest-822a-fra-uhslc_mse_hp1_it3.zarr\n",
      "current_file:leap-persistent/timh37/surgeNN_output/nns/performance_modified/lstm/lstm_3h_brest-822a-fra-uhslc_mse_hp1_it4.zarr\n",
      "current_file:leap-persistent/timh37/surgeNN_output/nns/performance_modified/lstm/lstm_3h_den_helder-denhdr-nld-rws_mse_hp1_it0.zarr\n",
      "current_file:leap-persistent/timh37/surgeNN_output/nns/performance_modified/lstm/lstm_3h_den_helder-denhdr-nld-rws_mse_hp1_it1.zarr\n",
      "current_file:leap-persistent/timh37/surgeNN_output/nns/performance_modified/lstm/lstm_3h_den_helder-denhdr-nld-rws_mse_hp1_it2.zarr\n",
      "current_file:leap-persistent/timh37/surgeNN_output/nns/performance_modified/lstm/lstm_3h_den_helder-denhdr-nld-rws_mse_hp1_it3.zarr\n",
      "current_file:leap-persistent/timh37/surgeNN_output/nns/performance_modified/lstm/lstm_3h_den_helder-denhdr-nld-rws_mse_hp1_it4.zarr\n",
      "current_file:leap-persistent/timh37/surgeNN_output/nns/performance_modified/lstm/lstm_3h_esbjerg-esb-dnk-dmi_mse_hp1_it0.zarr\n",
      "current_file:leap-persistent/timh37/surgeNN_output/nns/performance_modified/lstm/lstm_3h_esbjerg-esb-dnk-dmi_mse_hp1_it1.zarr\n",
      "current_file:leap-persistent/timh37/surgeNN_output/nns/performance_modified/lstm/lstm_3h_esbjerg-esb-dnk-dmi_mse_hp1_it2.zarr\n",
      "current_file:leap-persistent/timh37/surgeNN_output/nns/performance_modified/lstm/lstm_3h_esbjerg-esb-dnk-dmi_mse_hp1_it3.zarr\n",
      "current_file:leap-persistent/timh37/surgeNN_output/nns/performance_modified/lstm/lstm_3h_esbjerg-esb-dnk-dmi_mse_hp1_it4.zarr\n",
      "current_file:leap-persistent/timh37/surgeNN_output/nns/performance_modified/lstm/lstm_3h_fishguard-fis-gbr-bodc_mse_hp1_it0.zarr\n",
      "current_file:leap-persistent/timh37/surgeNN_output/nns/performance_modified/lstm/lstm_3h_fishguard-fis-gbr-bodc_mse_hp1_it1.zarr\n",
      "current_file:leap-persistent/timh37/surgeNN_output/nns/performance_modified/lstm/lstm_3h_fishguard-fis-gbr-bodc_mse_hp1_it2.zarr\n",
      "current_file:leap-persistent/timh37/surgeNN_output/nns/performance_modified/lstm/lstm_3h_fishguard-fis-gbr-bodc_mse_hp1_it3.zarr\n",
      "current_file:leap-persistent/timh37/surgeNN_output/nns/performance_modified/lstm/lstm_3h_fishguard-fis-gbr-bodc_mse_hp1_it4.zarr\n",
      "current_file:leap-persistent/timh37/surgeNN_output/nns/performance_modified/lstm/lstm_3h_immingham-imm-gbr-bodc_mse_hp1_it0.zarr\n",
      "current_file:leap-persistent/timh37/surgeNN_output/nns/performance_modified/lstm/lstm_3h_immingham-imm-gbr-bodc_mse_hp1_it1.zarr\n",
      "current_file:leap-persistent/timh37/surgeNN_output/nns/performance_modified/lstm/lstm_3h_immingham-imm-gbr-bodc_mse_hp1_it2.zarr\n",
      "current_file:leap-persistent/timh37/surgeNN_output/nns/performance_modified/lstm/lstm_3h_immingham-imm-gbr-bodc_mse_hp1_it3.zarr\n",
      "current_file:leap-persistent/timh37/surgeNN_output/nns/performance_modified/lstm/lstm_3h_immingham-imm-gbr-bodc_mse_hp1_it4.zarr\n",
      "current_file:leap-persistent/timh37/surgeNN_output/nns/performance_modified/lstm/lstm_3h_stavanger-svg-nor-nhs_mse_hp1_it0.zarr\n",
      "current_file:leap-persistent/timh37/surgeNN_output/nns/performance_modified/lstm/lstm_3h_stavanger-svg-nor-nhs_mse_hp1_it1.zarr\n",
      "current_file:leap-persistent/timh37/surgeNN_output/nns/performance_modified/lstm/lstm_3h_stavanger-svg-nor-nhs_mse_hp1_it2.zarr\n",
      "current_file:leap-persistent/timh37/surgeNN_output/nns/performance_modified/lstm/lstm_3h_stavanger-svg-nor-nhs_mse_hp1_it3.zarr\n",
      "current_file:leap-persistent/timh37/surgeNN_output/nns/performance_modified/lstm/lstm_3h_stavanger-svg-nor-nhs_mse_hp1_it4.zarr\n",
      "current_file:leap-persistent/timh37/surgeNN_output/nns/performance_modified/lstm/lstm_3h_vigo-vigo-esp-ieo_mse_hp1_it0.zarr\n",
      "current_file:leap-persistent/timh37/surgeNN_output/nns/performance_modified/lstm/lstm_3h_vigo-vigo-esp-ieo_mse_hp1_it1.zarr\n",
      "current_file:leap-persistent/timh37/surgeNN_output/nns/performance_modified/lstm/lstm_3h_vigo-vigo-esp-ieo_mse_hp1_it2.zarr\n",
      "current_file:leap-persistent/timh37/surgeNN_output/nns/performance_modified/lstm/lstm_3h_vigo-vigo-esp-ieo_mse_hp1_it3.zarr\n",
      "current_file:leap-persistent/timh37/surgeNN_output/nns/performance_modified/lstm/lstm_3h_vigo-vigo-esp-ieo_mse_hp1_it4.zarr\n",
      "current_file:leap-persistent/timh37/surgeNN_output/nns/performance_modified/lstm/lstm_3h_wick-wic-gbr-bodc_mse_hp1_it0.zarr\n",
      "current_file:leap-persistent/timh37/surgeNN_output/nns/performance_modified/lstm/lstm_3h_wick-wic-gbr-bodc_mse_hp1_it1.zarr\n",
      "current_file:leap-persistent/timh37/surgeNN_output/nns/performance_modified/lstm/lstm_3h_wick-wic-gbr-bodc_mse_hp1_it2.zarr\n",
      "current_file:leap-persistent/timh37/surgeNN_output/nns/performance_modified/lstm/lstm_3h_wick-wic-gbr-bodc_mse_hp1_it3.zarr\n",
      "current_file:leap-persistent/timh37/surgeNN_output/nns/performance_modified/lstm/lstm_3h_wick-wic-gbr-bodc_mse_hp1_it4.zarr\n"
     ]
    }
   ],
   "source": [
    "#LSTMs\n",
    "path = 'gs://leap-persistent/timh37/surgeNN_output/nns/performance_modified_v2/lstm'\n",
    "files = fs.ls(path)\n",
    "for f in files:\n",
    "    if f.startswith('.') == False:\n",
    "        print('current_file:' +f)\n",
    "        ds = xr.open_dataset('gs://'+f,engine='zarr')\n",
    "        \n",
    "        if ds.time[-1]==np.datetime64('2017-12-31T21:00'):\n",
    "            ds = ds.isel(time=np.arange(len(ds.time)-10)) #adjust to match GTSM coverage\n",
    "        \n",
    "        try: \n",
    "            ds = ds.isel(max_timesteps_between_extremes=-1,drop=True)\n",
    "        except:\n",
    "            pass\n",
    "        \n",
    "        ds_new = add_error_metrics_to_prediction_ds(ds.copy(deep=True),qnts,3)\n",
    "        \n",
    "        ds.close()\n",
    "        \n",
    "        for k in ['p','tg','split']:\n",
    "            ds_new[k] = ds_new[k].astype('str')\n",
    "        ds_new.to_zarr('gs://'+f.replace('performance_modified','performance_modified_v2'),mode='w',zarr_version=2)\n",
    "        "
   ]
  },
  {
   "cell_type": "code",
   "execution_count": 7,
   "id": "5f5e8fe5-c931-427a-b018-e1759065719c",
   "metadata": {
    "tags": []
   },
   "outputs": [
    {
     "name": "stdout",
     "output_type": "stream",
     "text": [
      "current_file:leap-persistent/timh37/surgeNN_output/nns/performance_modified/convlstm/convlstm_3h_alicante_i_outer_harbour-alio-esp-da_mm_mse_hp1_it0.zarr\n",
      "current_file:leap-persistent/timh37/surgeNN_output/nns/performance_modified/convlstm/convlstm_3h_alicante_i_outer_harbour-alio-esp-da_mm_mse_hp1_it1.zarr\n",
      "current_file:leap-persistent/timh37/surgeNN_output/nns/performance_modified/convlstm/convlstm_3h_alicante_i_outer_harbour-alio-esp-da_mm_mse_hp1_it2.zarr\n",
      "current_file:leap-persistent/timh37/surgeNN_output/nns/performance_modified/convlstm/convlstm_3h_alicante_i_outer_harbour-alio-esp-da_mm_mse_hp1_it3.zarr\n",
      "current_file:leap-persistent/timh37/surgeNN_output/nns/performance_modified/convlstm/convlstm_3h_alicante_i_outer_harbour-alio-esp-da_mm_mse_hp1_it4.zarr\n",
      "current_file:leap-persistent/timh37/surgeNN_output/nns/performance_modified/convlstm/convlstm_3h_brest-822a-fra-uhslc_mse_hp1_it0.zarr\n",
      "current_file:leap-persistent/timh37/surgeNN_output/nns/performance_modified/convlstm/convlstm_3h_brest-822a-fra-uhslc_mse_hp1_it1.zarr\n",
      "current_file:leap-persistent/timh37/surgeNN_output/nns/performance_modified/convlstm/convlstm_3h_brest-822a-fra-uhslc_mse_hp1_it2.zarr\n",
      "current_file:leap-persistent/timh37/surgeNN_output/nns/performance_modified/convlstm/convlstm_3h_brest-822a-fra-uhslc_mse_hp1_it3.zarr\n",
      "current_file:leap-persistent/timh37/surgeNN_output/nns/performance_modified/convlstm/convlstm_3h_brest-822a-fra-uhslc_mse_hp1_it4.zarr\n",
      "current_file:leap-persistent/timh37/surgeNN_output/nns/performance_modified/convlstm/convlstm_3h_den_helder-denhdr-nld-rws_mse_hp1_it0.zarr\n",
      "current_file:leap-persistent/timh37/surgeNN_output/nns/performance_modified/convlstm/convlstm_3h_den_helder-denhdr-nld-rws_mse_hp1_it1.zarr\n",
      "current_file:leap-persistent/timh37/surgeNN_output/nns/performance_modified/convlstm/convlstm_3h_den_helder-denhdr-nld-rws_mse_hp1_it2.zarr\n",
      "current_file:leap-persistent/timh37/surgeNN_output/nns/performance_modified/convlstm/convlstm_3h_den_helder-denhdr-nld-rws_mse_hp1_it3.zarr\n",
      "current_file:leap-persistent/timh37/surgeNN_output/nns/performance_modified/convlstm/convlstm_3h_den_helder-denhdr-nld-rws_mse_hp1_it4.zarr\n",
      "current_file:leap-persistent/timh37/surgeNN_output/nns/performance_modified/convlstm/convlstm_3h_esbjerg-esb-dnk-dmi_mse_hp1_it0.zarr\n",
      "current_file:leap-persistent/timh37/surgeNN_output/nns/performance_modified/convlstm/convlstm_3h_esbjerg-esb-dnk-dmi_mse_hp1_it1.zarr\n",
      "current_file:leap-persistent/timh37/surgeNN_output/nns/performance_modified/convlstm/convlstm_3h_esbjerg-esb-dnk-dmi_mse_hp1_it2.zarr\n",
      "current_file:leap-persistent/timh37/surgeNN_output/nns/performance_modified/convlstm/convlstm_3h_esbjerg-esb-dnk-dmi_mse_hp1_it3.zarr\n",
      "current_file:leap-persistent/timh37/surgeNN_output/nns/performance_modified/convlstm/convlstm_3h_esbjerg-esb-dnk-dmi_mse_hp1_it4.zarr\n",
      "current_file:leap-persistent/timh37/surgeNN_output/nns/performance_modified/convlstm/convlstm_3h_fishguard-fis-gbr-bodc_mse_hp1_it0.zarr\n",
      "current_file:leap-persistent/timh37/surgeNN_output/nns/performance_modified/convlstm/convlstm_3h_fishguard-fis-gbr-bodc_mse_hp1_it1.zarr\n",
      "current_file:leap-persistent/timh37/surgeNN_output/nns/performance_modified/convlstm/convlstm_3h_fishguard-fis-gbr-bodc_mse_hp1_it2.zarr\n",
      "current_file:leap-persistent/timh37/surgeNN_output/nns/performance_modified/convlstm/convlstm_3h_fishguard-fis-gbr-bodc_mse_hp1_it3.zarr\n",
      "current_file:leap-persistent/timh37/surgeNN_output/nns/performance_modified/convlstm/convlstm_3h_fishguard-fis-gbr-bodc_mse_hp1_it4.zarr\n",
      "current_file:leap-persistent/timh37/surgeNN_output/nns/performance_modified/convlstm/convlstm_3h_immingham-imm-gbr-bodc_mse_hp1_it0.zarr\n",
      "current_file:leap-persistent/timh37/surgeNN_output/nns/performance_modified/convlstm/convlstm_3h_immingham-imm-gbr-bodc_mse_hp1_it1.zarr\n",
      "current_file:leap-persistent/timh37/surgeNN_output/nns/performance_modified/convlstm/convlstm_3h_immingham-imm-gbr-bodc_mse_hp1_it2.zarr\n",
      "current_file:leap-persistent/timh37/surgeNN_output/nns/performance_modified/convlstm/convlstm_3h_immingham-imm-gbr-bodc_mse_hp1_it3.zarr\n",
      "current_file:leap-persistent/timh37/surgeNN_output/nns/performance_modified/convlstm/convlstm_3h_immingham-imm-gbr-bodc_mse_hp1_it4.zarr\n",
      "current_file:leap-persistent/timh37/surgeNN_output/nns/performance_modified/convlstm/convlstm_3h_stavanger-svg-nor-nhs_mse_hp1_it0.zarr\n",
      "current_file:leap-persistent/timh37/surgeNN_output/nns/performance_modified/convlstm/convlstm_3h_stavanger-svg-nor-nhs_mse_hp1_it1.zarr\n",
      "current_file:leap-persistent/timh37/surgeNN_output/nns/performance_modified/convlstm/convlstm_3h_stavanger-svg-nor-nhs_mse_hp1_it2.zarr\n",
      "current_file:leap-persistent/timh37/surgeNN_output/nns/performance_modified/convlstm/convlstm_3h_stavanger-svg-nor-nhs_mse_hp1_it3.zarr\n",
      "current_file:leap-persistent/timh37/surgeNN_output/nns/performance_modified/convlstm/convlstm_3h_stavanger-svg-nor-nhs_mse_hp1_it4.zarr\n",
      "current_file:leap-persistent/timh37/surgeNN_output/nns/performance_modified/convlstm/convlstm_3h_vigo-vigo-esp-ieo_mse_hp1_it0.zarr\n",
      "current_file:leap-persistent/timh37/surgeNN_output/nns/performance_modified/convlstm/convlstm_3h_vigo-vigo-esp-ieo_mse_hp1_it1.zarr\n",
      "current_file:leap-persistent/timh37/surgeNN_output/nns/performance_modified/convlstm/convlstm_3h_vigo-vigo-esp-ieo_mse_hp1_it2.zarr\n",
      "current_file:leap-persistent/timh37/surgeNN_output/nns/performance_modified/convlstm/convlstm_3h_vigo-vigo-esp-ieo_mse_hp1_it3.zarr\n",
      "current_file:leap-persistent/timh37/surgeNN_output/nns/performance_modified/convlstm/convlstm_3h_vigo-vigo-esp-ieo_mse_hp1_it4.zarr\n",
      "current_file:leap-persistent/timh37/surgeNN_output/nns/performance_modified/convlstm/convlstm_3h_wick-wic-gbr-bodc_mse_hp1_it0.zarr\n",
      "current_file:leap-persistent/timh37/surgeNN_output/nns/performance_modified/convlstm/convlstm_3h_wick-wic-gbr-bodc_mse_hp1_it1.zarr\n",
      "current_file:leap-persistent/timh37/surgeNN_output/nns/performance_modified/convlstm/convlstm_3h_wick-wic-gbr-bodc_mse_hp1_it2.zarr\n",
      "current_file:leap-persistent/timh37/surgeNN_output/nns/performance_modified/convlstm/convlstm_3h_wick-wic-gbr-bodc_mse_hp1_it3.zarr\n",
      "current_file:leap-persistent/timh37/surgeNN_output/nns/performance_modified/convlstm/convlstm_3h_wick-wic-gbr-bodc_mse_hp1_it4.zarr\n"
     ]
    }
   ],
   "source": [
    "#ConvLSTMs\n",
    "path = 'gs://leap-persistent/timh37/surgeNN_output/nns/performance_modified/convlstm'\n",
    "files = fs.ls(path)\n",
    "for f in files:    \n",
    "    if f.startswith('.') == False:\n",
    "        print('current_file:' +f)\n",
    "        ds = xr.open_dataset('gs://'+f,engine='zarr')\n",
    "        \n",
    "        if ds.time[-1]==np.datetime64('2017-12-31T21:00'):\n",
    "            ds = ds.isel(time=np.arange(len(ds.time)-10)) #adjust to match GTSM coverage\n",
    "        \n",
    "        try: \n",
    "            ds = ds.isel(max_timesteps_between_extremes=-1,drop=True)\n",
    "        except:\n",
    "            pass\n",
    "        \n",
    "        ds_new = add_error_metrics_to_prediction_ds(ds.copy(deep=True),qnts,3)\n",
    "        \n",
    "        for k in ['p','tg','split']:\n",
    "            ds_new[k] = ds_new[k].astype('str')\n",
    "        \n",
    "        ds_new.to_zarr('gs://'+f.replace('performance_modified','performance_modified_v2'),mode='w',zarr_version=2)\n",
    "        "
   ]
  },
  {
   "cell_type": "code",
   "execution_count": null,
   "id": "0c64c76f-2750-493c-ad37-f7e8ba1859b6",
   "metadata": {},
   "outputs": [],
   "source": []
  }
 ],
 "metadata": {
  "kernelspec": {
   "display_name": "Python 3 (ipykernel)",
   "language": "python",
   "name": "python3"
  },
  "language_info": {
   "codemirror_mode": {
    "name": "ipython",
    "version": 3
   },
   "file_extension": ".py",
   "mimetype": "text/x-python",
   "name": "python",
   "nbconvert_exporter": "python",
   "pygments_lexer": "ipython3",
   "version": "3.10.10"
  }
 },
 "nbformat": 4,
 "nbformat_minor": 5
}
