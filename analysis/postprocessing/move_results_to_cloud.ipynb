{
 "cells": [
  {
   "cell_type": "code",
   "execution_count": 1,
   "id": "263244a3-bc83-4a89-a7f1-e78d77089130",
   "metadata": {},
   "outputs": [],
   "source": [
    "import xarray as xr\n",
    "import dask\n",
    "import os\n",
    "import gcsfs\n",
    "fs = gcsfs.GCSFileSystem() #list stores, stripp zarr from filename, load \n"
   ]
  },
  {
   "cell_type": "code",
   "execution_count": 2,
   "id": "52e0727b-e1c5-4791-b849-f71ed76d9292",
   "metadata": {},
   "outputs": [
    {
     "data": {
      "text/plain": [
       "['leap-persistent/timh37/CMIP6',\n",
       " 'leap-persistent/timh37/HighResMIP',\n",
       " 'leap-persistent/timh37/era5_predictors',\n",
       " 'leap-persistent/timh37/surgeNN_output']"
      ]
     },
     "execution_count": 2,
     "metadata": {},
     "output_type": "execute_result"
    }
   ],
   "source": [
    "fs.ls('gs://leap-persistent/timh37')"
   ]
  },
  {
   "cell_type": "code",
   "execution_count": 3,
   "id": "d566bf25-3b95-4e4d-af4c-0d1576272085",
   "metadata": {
    "tags": []
   },
   "outputs": [],
   "source": [
    "import xarray as xr\n",
    "import dask\n",
    "import os\n",
    "import gcsfs\n",
    "fs = gcsfs.GCSFileSystem() #list stores, stripp zarr from filename, load \n",
    "\n",
    "#fs.rm('leap-persistent/timh37/era5/6hourly/5x5_around_gesla3')\n",
    "in_path = '/home/jovyan/test_surge_models/results/nns/performance/lstm/'\n",
    "cloud_path = 'gs://leap-persistent/timh37/surgeNN_output/nns/performance_modified/lstm/'\n",
    "try:\n",
    "    fs.ls(cloud_path)\n",
    "except:\n",
    "    pass"
   ]
  },
  {
   "cell_type": "code",
   "execution_count": 4,
   "id": "af3ca48a-acbf-4729-824b-03029d92a066",
   "metadata": {},
   "outputs": [
    {
     "name": "stdout",
     "output_type": "stream",
     "text": [
      "lstm_3h_esbjerg-esb-dnk-dmi_mse_hp1_it2.nc\n",
      "lstm_3h_wick-wic-gbr-bodc_mse_hp1_it1.nc\n",
      "lstm_3h_immingham-imm-gbr-bodc_mse_hp1_it3.nc\n",
      "lstm_3h_vigo-vigo-esp-ieo_mse_hp1_it3.nc\n",
      "lstm_3h_esbjerg-esb-dnk-dmi_mse_hp1_it3.nc\n",
      "lstm_3h_wick-wic-gbr-bodc_mse_hp1_it0.nc\n",
      "lstm_3h_wick-wic-gbr-bodc_mse_hp1_it4.nc\n",
      "lstm_3h_den_helder-denhdr-nld-rws_mse_hp1_it2.nc\n",
      "lstm_3h_alicante_i_outer_harbour-alio-esp-da_mm_mse_hp1_it2.nc\n",
      "lstm_3h_fishguard-fis-gbr-bodc_mse_hp1_ndeg1.5_it4.nc\n",
      "lstm_3h_esbjerg-esb-dnk-dmi_mse_hp1_ndeg1.5_it3.nc\n",
      "lstm_3h_fishguard-fis-gbr-bodc_mse_hp1_it2.nc\n",
      "lstm_3h_brest-822a-fra-uhslc_mse_hp1_it3.nc\n",
      "lstm_3h_fishguard-fis-gbr-bodc_mse_hp1_ndeg1.5_it0.nc\n",
      "lstm_3h_stavanger-svg-nor-nhs_mse_hp1_it1.nc\n",
      "lstm_3h_brest-822a-fra-uhslc_mse_hp1_it2.nc\n",
      "lstm_3h_fishguard-fis-gbr-bodc_mse_hp1_ndeg1.5_it1.nc\n",
      "lstm_3h_stavanger-svg-nor-nhs_mse_hp1_it0.nc\n",
      "lstm_3h_alicante_i_outer_harbour-alio-esp-da_mm_mse_hp1_it3.nc\n",
      "lstm_3h_esbjerg-esb-dnk-dmi_mse_hp1_ndeg1.5_it2.nc\n",
      "lstm_3h_stavanger-svg-nor-nhs_mse_hp1_it4.nc\n",
      "lstm_3h_fishguard-fis-gbr-bodc_mse_hp1_it3.nc\n",
      "lstm_3h_brest-822a-fra-uhslc_mse_hp1_it1.nc\n",
      "lstm_3h_alicante_i_outer_harbour-alio-esp-da_mm_mse_hp1_it4.nc\n",
      "lstm_3h_fishguard-fis-gbr-bodc_mse_hp1_ndeg1.5_it2.nc\n",
      "lstm_3h_fishguard-fis-gbr-bodc_mse_hp1_it4.nc\n",
      "lstm_3h_stavanger-svg-nor-nhs_mse_hp1_it3.nc\n",
      "lstm_3h_alicante_i_outer_harbour-alio-esp-da_mm_mse_hp1_it0.nc\n",
      "lstm_3h_esbjerg-esb-dnk-dmi_mse_hp1_ndeg1.5_it1.nc\n",
      "lstm_3h_fishguard-fis-gbr-bodc_mse_hp1_it0.nc\n",
      "lstm_3h_brest-822a-fra-uhslc_mse_hp1_it4.nc\n",
      "lstm_3h_alicante_i_outer_harbour-alio-esp-da_mm_mse_hp1_it1.nc\n",
      "lstm_3h_esbjerg-esb-dnk-dmi_mse_hp1_ndeg1.5_it0.nc\n",
      "lstm_3h_fishguard-fis-gbr-bodc_mse_hp1_it1.nc\n",
      "lstm_3h_brest-822a-fra-uhslc_mse_hp1_it0.nc\n",
      "lstm_3h_esbjerg-esb-dnk-dmi_mse_hp1_ndeg1.5_it4.nc\n",
      "lstm_3h_fishguard-fis-gbr-bodc_mse_hp1_ndeg1.5_it3.nc\n",
      "lstm_3h_stavanger-svg-nor-nhs_mse_hp1_it2.nc\n",
      "lstm_3h_esbjerg-esb-dnk-dmi_mse_hp1_it0.nc\n",
      "lstm_3h_wick-wic-gbr-bodc_mse_hp1_it3.nc\n",
      "lstm_3h_immingham-imm-gbr-bodc_mse_hp1_it4.nc\n",
      "lstm_3h_vigo-vigo-esp-ieo_mse_hp1_it4.nc\n",
      "lstm_3h_esbjerg-esb-dnk-dmi_mse_hp1_it4.nc\n",
      "lstm_3h_den_helder-denhdr-nld-rws_mse_hp1_it1.nc\n",
      "lstm_3h_den_helder-denhdr-nld-rws_mse_hp1_it0.nc\n",
      "lstm_3h_immingham-imm-gbr-bodc_mse_hp1_it1.nc\n",
      "lstm_3h_vigo-vigo-esp-ieo_mse_hp1_it1.nc\n",
      "lstm_3h_esbjerg-esb-dnk-dmi_mse_hp1_it1.nc\n",
      "lstm_3h_den_helder-denhdr-nld-rws_mse_hp1_it4.nc\n",
      "lstm_3h_wick-wic-gbr-bodc_mse_hp1_it2.nc\n",
      "lstm_3h_vigo-vigo-esp-ieo_mse_hp1_it0.nc\n",
      "lstm_3h_den_helder-denhdr-nld-rws_mse_hp1_it3.nc\n",
      "lstm_3h_immingham-imm-gbr-bodc_mse_hp1_it2.nc\n",
      "lstm_3h_immingham-imm-gbr-bodc_mse_hp1_it0.nc\n",
      "lstm_3h_vigo-vigo-esp-ieo_mse_hp1_it2.nc\n"
     ]
    },
    {
     "data": {
      "text/plain": [
       "['leap-persistent/timh37/surgeNN_output/nns/performance_modified/lstm/lstm_3h_alicante_i_outer_harbour-alio-esp-da_mm_mse_hp1_it0.zarr',\n",
       " 'leap-persistent/timh37/surgeNN_output/nns/performance_modified/lstm/lstm_3h_alicante_i_outer_harbour-alio-esp-da_mm_mse_hp1_it1.zarr',\n",
       " 'leap-persistent/timh37/surgeNN_output/nns/performance_modified/lstm/lstm_3h_alicante_i_outer_harbour-alio-esp-da_mm_mse_hp1_it2.zarr',\n",
       " 'leap-persistent/timh37/surgeNN_output/nns/performance_modified/lstm/lstm_3h_alicante_i_outer_harbour-alio-esp-da_mm_mse_hp1_it3.zarr',\n",
       " 'leap-persistent/timh37/surgeNN_output/nns/performance_modified/lstm/lstm_3h_alicante_i_outer_harbour-alio-esp-da_mm_mse_hp1_it4.zarr',\n",
       " 'leap-persistent/timh37/surgeNN_output/nns/performance_modified/lstm/lstm_3h_brest-822a-fra-uhslc_mse_hp1_it0.zarr',\n",
       " 'leap-persistent/timh37/surgeNN_output/nns/performance_modified/lstm/lstm_3h_brest-822a-fra-uhslc_mse_hp1_it1.zarr',\n",
       " 'leap-persistent/timh37/surgeNN_output/nns/performance_modified/lstm/lstm_3h_brest-822a-fra-uhslc_mse_hp1_it2.zarr',\n",
       " 'leap-persistent/timh37/surgeNN_output/nns/performance_modified/lstm/lstm_3h_brest-822a-fra-uhslc_mse_hp1_it3.zarr',\n",
       " 'leap-persistent/timh37/surgeNN_output/nns/performance_modified/lstm/lstm_3h_brest-822a-fra-uhslc_mse_hp1_it4.zarr',\n",
       " 'leap-persistent/timh37/surgeNN_output/nns/performance_modified/lstm/lstm_3h_den_helder-denhdr-nld-rws_mse_hp1_it0.zarr',\n",
       " 'leap-persistent/timh37/surgeNN_output/nns/performance_modified/lstm/lstm_3h_den_helder-denhdr-nld-rws_mse_hp1_it1.zarr',\n",
       " 'leap-persistent/timh37/surgeNN_output/nns/performance_modified/lstm/lstm_3h_den_helder-denhdr-nld-rws_mse_hp1_it2.zarr',\n",
       " 'leap-persistent/timh37/surgeNN_output/nns/performance_modified/lstm/lstm_3h_den_helder-denhdr-nld-rws_mse_hp1_it3.zarr',\n",
       " 'leap-persistent/timh37/surgeNN_output/nns/performance_modified/lstm/lstm_3h_den_helder-denhdr-nld-rws_mse_hp1_it4.zarr',\n",
       " 'leap-persistent/timh37/surgeNN_output/nns/performance_modified/lstm/lstm_3h_esbjerg-esb-dnk-dmi_mse_hp1_it0.zarr',\n",
       " 'leap-persistent/timh37/surgeNN_output/nns/performance_modified/lstm/lstm_3h_esbjerg-esb-dnk-dmi_mse_hp1_it1.zarr',\n",
       " 'leap-persistent/timh37/surgeNN_output/nns/performance_modified/lstm/lstm_3h_esbjerg-esb-dnk-dmi_mse_hp1_it2.zarr',\n",
       " 'leap-persistent/timh37/surgeNN_output/nns/performance_modified/lstm/lstm_3h_esbjerg-esb-dnk-dmi_mse_hp1_it3.zarr',\n",
       " 'leap-persistent/timh37/surgeNN_output/nns/performance_modified/lstm/lstm_3h_esbjerg-esb-dnk-dmi_mse_hp1_it4.zarr',\n",
       " 'leap-persistent/timh37/surgeNN_output/nns/performance_modified/lstm/lstm_3h_esbjerg-esb-dnk-dmi_mse_hp1_ndeg1.5_it0.zarr',\n",
       " 'leap-persistent/timh37/surgeNN_output/nns/performance_modified/lstm/lstm_3h_esbjerg-esb-dnk-dmi_mse_hp1_ndeg1.5_it1.zarr',\n",
       " 'leap-persistent/timh37/surgeNN_output/nns/performance_modified/lstm/lstm_3h_esbjerg-esb-dnk-dmi_mse_hp1_ndeg1.5_it2.zarr',\n",
       " 'leap-persistent/timh37/surgeNN_output/nns/performance_modified/lstm/lstm_3h_esbjerg-esb-dnk-dmi_mse_hp1_ndeg1.5_it3.zarr',\n",
       " 'leap-persistent/timh37/surgeNN_output/nns/performance_modified/lstm/lstm_3h_esbjerg-esb-dnk-dmi_mse_hp1_ndeg1.5_it4.zarr',\n",
       " 'leap-persistent/timh37/surgeNN_output/nns/performance_modified/lstm/lstm_3h_fishguard-fis-gbr-bodc_mse_hp1_it0.zarr',\n",
       " 'leap-persistent/timh37/surgeNN_output/nns/performance_modified/lstm/lstm_3h_fishguard-fis-gbr-bodc_mse_hp1_it1.zarr',\n",
       " 'leap-persistent/timh37/surgeNN_output/nns/performance_modified/lstm/lstm_3h_fishguard-fis-gbr-bodc_mse_hp1_it2.zarr',\n",
       " 'leap-persistent/timh37/surgeNN_output/nns/performance_modified/lstm/lstm_3h_fishguard-fis-gbr-bodc_mse_hp1_it3.zarr',\n",
       " 'leap-persistent/timh37/surgeNN_output/nns/performance_modified/lstm/lstm_3h_fishguard-fis-gbr-bodc_mse_hp1_it4.zarr',\n",
       " 'leap-persistent/timh37/surgeNN_output/nns/performance_modified/lstm/lstm_3h_fishguard-fis-gbr-bodc_mse_hp1_ndeg1.5_it0.zarr',\n",
       " 'leap-persistent/timh37/surgeNN_output/nns/performance_modified/lstm/lstm_3h_fishguard-fis-gbr-bodc_mse_hp1_ndeg1.5_it1.zarr',\n",
       " 'leap-persistent/timh37/surgeNN_output/nns/performance_modified/lstm/lstm_3h_fishguard-fis-gbr-bodc_mse_hp1_ndeg1.5_it2.zarr',\n",
       " 'leap-persistent/timh37/surgeNN_output/nns/performance_modified/lstm/lstm_3h_fishguard-fis-gbr-bodc_mse_hp1_ndeg1.5_it3.zarr',\n",
       " 'leap-persistent/timh37/surgeNN_output/nns/performance_modified/lstm/lstm_3h_fishguard-fis-gbr-bodc_mse_hp1_ndeg1.5_it4.zarr',\n",
       " 'leap-persistent/timh37/surgeNN_output/nns/performance_modified/lstm/lstm_3h_immingham-imm-gbr-bodc_mse_hp1_it0.zarr',\n",
       " 'leap-persistent/timh37/surgeNN_output/nns/performance_modified/lstm/lstm_3h_immingham-imm-gbr-bodc_mse_hp1_it1.zarr',\n",
       " 'leap-persistent/timh37/surgeNN_output/nns/performance_modified/lstm/lstm_3h_immingham-imm-gbr-bodc_mse_hp1_it2.zarr',\n",
       " 'leap-persistent/timh37/surgeNN_output/nns/performance_modified/lstm/lstm_3h_immingham-imm-gbr-bodc_mse_hp1_it3.zarr',\n",
       " 'leap-persistent/timh37/surgeNN_output/nns/performance_modified/lstm/lstm_3h_immingham-imm-gbr-bodc_mse_hp1_it4.zarr',\n",
       " 'leap-persistent/timh37/surgeNN_output/nns/performance_modified/lstm/lstm_3h_stavanger-svg-nor-nhs_mse_hp1_it0.zarr',\n",
       " 'leap-persistent/timh37/surgeNN_output/nns/performance_modified/lstm/lstm_3h_stavanger-svg-nor-nhs_mse_hp1_it1.zarr',\n",
       " 'leap-persistent/timh37/surgeNN_output/nns/performance_modified/lstm/lstm_3h_stavanger-svg-nor-nhs_mse_hp1_it2.zarr',\n",
       " 'leap-persistent/timh37/surgeNN_output/nns/performance_modified/lstm/lstm_3h_stavanger-svg-nor-nhs_mse_hp1_it3.zarr',\n",
       " 'leap-persistent/timh37/surgeNN_output/nns/performance_modified/lstm/lstm_3h_stavanger-svg-nor-nhs_mse_hp1_it4.zarr',\n",
       " 'leap-persistent/timh37/surgeNN_output/nns/performance_modified/lstm/lstm_3h_vigo-vigo-esp-ieo_mse_hp1_it0.zarr',\n",
       " 'leap-persistent/timh37/surgeNN_output/nns/performance_modified/lstm/lstm_3h_vigo-vigo-esp-ieo_mse_hp1_it1.zarr',\n",
       " 'leap-persistent/timh37/surgeNN_output/nns/performance_modified/lstm/lstm_3h_vigo-vigo-esp-ieo_mse_hp1_it2.zarr',\n",
       " 'leap-persistent/timh37/surgeNN_output/nns/performance_modified/lstm/lstm_3h_vigo-vigo-esp-ieo_mse_hp1_it3.zarr',\n",
       " 'leap-persistent/timh37/surgeNN_output/nns/performance_modified/lstm/lstm_3h_vigo-vigo-esp-ieo_mse_hp1_it4.zarr',\n",
       " 'leap-persistent/timh37/surgeNN_output/nns/performance_modified/lstm/lstm_3h_wick-wic-gbr-bodc_mse_hp1_it0.zarr',\n",
       " 'leap-persistent/timh37/surgeNN_output/nns/performance_modified/lstm/lstm_3h_wick-wic-gbr-bodc_mse_hp1_it1.zarr',\n",
       " 'leap-persistent/timh37/surgeNN_output/nns/performance_modified/lstm/lstm_3h_wick-wic-gbr-bodc_mse_hp1_it2.zarr',\n",
       " 'leap-persistent/timh37/surgeNN_output/nns/performance_modified/lstm/lstm_3h_wick-wic-gbr-bodc_mse_hp1_it3.zarr',\n",
       " 'leap-persistent/timh37/surgeNN_output/nns/performance_modified/lstm/lstm_3h_wick-wic-gbr-bodc_mse_hp1_it4.zarr']"
      ]
     },
     "execution_count": 4,
     "metadata": {},
     "output_type": "execute_result"
    }
   ],
   "source": [
    "for file in os.listdir(in_path):\n",
    "    if file.startswith('.') == False:\n",
    "        print(file)\n",
    "        fn = os.path.join(in_path,file)\n",
    "        ds  = xr.open_dataset(fn)\n",
    "        for k in ['p','tg','split']:\n",
    "            ds[k] = ds[k].astype('str')\n",
    "        ds.to_zarr(os.path.join(cloud_path,file.replace('.nc','.zarr')),mode='w',zarr_version=2)\n",
    "fs.ls(cloud_path)"
   ]
  },
  {
   "cell_type": "code",
   "execution_count": null,
   "id": "a72d770a-dfc1-4d52-84e8-9881c1c8fc74",
   "metadata": {},
   "outputs": [],
   "source": []
  },
  {
   "cell_type": "code",
   "execution_count": null,
   "id": "fe1faa1a-e29e-41fb-b097-f6b2690d55e0",
   "metadata": {},
   "outputs": [],
   "source": []
  }
 ],
 "metadata": {
  "kernelspec": {
   "display_name": "Python 3 (ipykernel)",
   "language": "python",
   "name": "python3"
  },
  "language_info": {
   "codemirror_mode": {
    "name": "ipython",
    "version": 3
   },
   "file_extension": ".py",
   "mimetype": "text/x-python",
   "name": "python",
   "nbconvert_exporter": "python",
   "pygments_lexer": "ipython3",
   "version": "3.10.10"
  }
 },
 "nbformat": 4,
 "nbformat_minor": 5
}
