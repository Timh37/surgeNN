{
 "cells": [
  {
   "cell_type": "code",
   "execution_count": 2,
   "id": "7b6e9207-fd77-4490-a9e0-e08337ff4d70",
   "metadata": {
    "tags": []
   },
   "outputs": [
    {
     "name": "stderr",
     "output_type": "stream",
     "text": [
      "/tmp/ipykernel_115623/1980157682.py:1: TqdmExperimentalWarning: Using `tqdm.autonotebook.tqdm` in notebook mode. Use `tqdm.tqdm` instead to force console mode (e.g. in jupyter console)\n",
      "  from tqdm.autonotebook import tqdm\n"
     ]
    }
   ],
   "source": [
    "from tqdm.autonotebook import tqdm\n",
    "import xarray as xr\n",
    "import os\n",
    "import pandas as pd\n",
    "import numpy as np\n",
    "import gcsfs\n",
    "fs = gcsfs.GCSFileSystem() #list stores, stripp zarr from filename, load \n",
    "from get_era5_around_tgs import get_era5_around_tgs"
   ]
  },
  {
   "cell_type": "markdown",
   "id": "50623924-e462-4133-8507-7c87c5b0bfea",
   "metadata": {},
   "source": [
    "Configure the script:"
   ]
  },
  {
   "cell_type": "code",
   "execution_count": 4,
   "id": "a36a2edf-c201-4a99-9abc-78ade2653dd7",
   "metadata": {},
   "outputs": [],
   "source": [
    "grid_size_around_tgs=2 #degrees around TGs\n",
    "\n",
    "predictand_path = '/home/jovyan/test_surge_models/input/t_tide_6h_hourly_deseasoned_predictands'\n",
    "predictor_path = 'leap-persistent/timh37/era5/6hourly'\n",
    "\n",
    "tg_coords = xr.open_dataset('input/gesla3_tg_coordinates_eu.nc')#.sel(tg=['den_helder-denhdr-nld-rws.csv']) #load TG coordinates"
   ]
  },
  {
   "cell_type": "code",
   "execution_count": 6,
   "id": "3d300a61-c38f-4a7d-a0a5-5620f7e2fc4d",
   "metadata": {
    "tags": []
   },
   "outputs": [
    {
     "name": "stdout",
     "output_type": "stream",
     "text": [
      "processing: barcelona-bar-esp-cmems.csv\n",
      "processing: den_helder-denhdr-nld-rws.csv\n",
      "processing: brest-822a-fra-uhslc.csv\n",
      "processing: immingham-imm-gbr-bodc.csv\n",
      "processing: stavanger-svg-nor-nhs.csv\n"
     ]
    }
   ],
   "source": [
    "#open predictors\n",
    "da = xr.open_mfdataset(['gs://'+x for x in fs.ls(predictor_path) if '.nc' in x],engine='zarr',concat_dim=\"time\", combine=\"nested\",\n",
    "                      data_vars='minimal', coords='minimal', compat='override').chunk({'time':100000})#,chunks={'longitude':30,'latitude':30}).chunk({'time':100000})\n",
    "da.attrs['resolution'] = '0p25x0p25'\n",
    "\n",
    "for output_tg in ['barcelona-bar-esp-cmems.csv','den_helder-denhdr-nld-rws.csv', 'brest-822a-fra-uhslc.csv', \n",
    "            'immingham-imm-gbr-bodc.csv','stavanger-svg-nor-nhs.csv']:#tg_coords.tg.values:\n",
    "    print('processing: '+output_tg)\n",
    "    da_around_tgs = get_era5_around_tgs(da,grid_size_around_tgs,tg_coords.sel(tg=[output_tg])).chunk({'tg':1}) #get predictors around each TG\n",
    "\n",
    "\n",
    "    output_fn = 'era5_'+str(grid_size_around_tgs)+'x'+str(grid_size_around_tgs)+'_around_'+ output_tg.replace('.csv','.zarr')\n",
    "    \n",
    "    #if output_tg.replace('.csv','_era5Predictors_'+str(grid_size_around_tgs)+'x'+str(grid_size_around_tgs)+'.nc') not in os.listdir('predictors/'):\n",
    "        #da_around_tgs.sel(tg=output_tg).to_netcdf('predictors/'+output_tg.replace('.csv','_era5Predictors_'+str(grid_size_around_tgs)+'x'+str(grid_size_around_tgs)+'.nc'))\n",
    "    #da_around_tgs.sel(tg=output_tg).to_zarr(os.path.join('gs://leap-persistent/timh37/era5/6hourly/5x5_around_gesla3',output_fn),mode='w')\n",
    "    da_around_tgs.sel(tg=output_tg).to_netcdf(output_fn.replace('.zarr','.nc'),mode='w')"
   ]
  },
  {
   "cell_type": "code",
   "execution_count": 10,
   "id": "f7cfd8b3-6b8c-42b1-874a-7ae1c6d163bb",
   "metadata": {
    "tags": []
   },
   "outputs": [
    {
     "data": {
      "text/plain": [
       "'gs://leap-persistent/timh37/era5/6hourly/5x5_around_gesla3/era5_5x5_around_aberdeen-abe-gbr-bodc.nc'"
      ]
     },
     "execution_count": 10,
     "metadata": {},
     "output_type": "execute_result"
    }
   ],
   "source": [
    "os.path.join('gs://leap-persistent/timh37/era5/6hourly/5x5_around_gesla3',output_fn)"
   ]
  },
  {
   "cell_type": "code",
   "execution_count": null,
   "id": "ff0a8249-d84b-459d-9dd8-abe1aabf80e3",
   "metadata": {},
   "outputs": [],
   "source": []
  }
 ],
 "metadata": {
  "kernelspec": {
   "display_name": "Python 3 (ipykernel)",
   "language": "python",
   "name": "python3"
  },
  "language_info": {
   "codemirror_mode": {
    "name": "ipython",
    "version": 3
   },
   "file_extension": ".py",
   "mimetype": "text/x-python",
   "name": "python",
   "nbconvert_exporter": "python",
   "pygments_lexer": "ipython3",
   "version": "3.10.10"
  }
 },
 "nbformat": 4,
 "nbformat_minor": 5
}
