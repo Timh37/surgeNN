{
 "cells": [
  {
   "cell_type": "code",
   "execution_count": 1,
   "id": "d566bf25-3b95-4e4d-af4c-0d1576272085",
   "metadata": {
    "tags": []
   },
   "outputs": [],
   "source": [
    "import xarray as xr\n",
    "import dask\n",
    "import os\n",
    "import gcsfs\n",
    "fs = gcsfs.GCSFileSystem() #list stores, stripp zarr from filename, load \n",
    "\n",
    "#fs.rm('leap-persistent/timh37/era5/6hourly/5x5_around_gesla3')\n",
    "in_path =#'/home/jovyan/test_surge_models/input/predictors_3hourly/'\n",
    "cloud_path = 'gs://leap-persistent/timh37/era5_predictors/3hourly/'\n",
    "try:\n",
    "    fs.ls(cloud_path)\n",
    "except:\n",
    "    pass"
   ]
  },
  {
   "cell_type": "code",
   "execution_count": 5,
   "id": "af3ca48a-acbf-4729-824b-03029d92a066",
   "metadata": {},
   "outputs": [
    {
     "name": "stdout",
     "output_type": "stream",
     "text": [
      "den_helder-denhdr-nld-rws_era5Predictors_8x8.nc\n"
     ]
    },
    {
     "data": {
      "text/plain": [
       "['leap-persistent/timh37/era5_predictors/3hourly/alicante_i-ali-esp-da_mm_era5Predictors_5x5.nc',\n",
       " 'leap-persistent/timh37/era5_predictors/3hourly/alicante_i_outer_harbour-alio-esp-da_mm_era5Predictors_5x5.nc',\n",
       " 'leap-persistent/timh37/era5_predictors/3hourly/brest-822a-fra-uhslc_era5Predictors_5x5.nc',\n",
       " 'leap-persistent/timh37/era5_predictors/3hourly/den_helder-denhdr-nld-rws_era5Predictors_5x5.nc',\n",
       " 'leap-persistent/timh37/era5_predictors/3hourly/den_helder-denhdr-nld-rws_era5Predictors_8x8.nc',\n",
       " 'leap-persistent/timh37/era5_predictors/3hourly/esbjerg-esb-dnk-dmi_era5Predictors_5x5.nc',\n",
       " 'leap-persistent/timh37/era5_predictors/3hourly/fishguard-fis-gbr-bodc_era5Predictors_5x5.nc',\n",
       " 'leap-persistent/timh37/era5_predictors/3hourly/immingham-imm-gbr-bodc_era5Predictors_5x5.nc',\n",
       " 'leap-persistent/timh37/era5_predictors/3hourly/stavanger-svg-nor-nhs_era5Predictors_5x5.nc',\n",
       " 'leap-persistent/timh37/era5_predictors/3hourly/vigo-vigo-esp-ieo_era5Predictors_5x5.nc',\n",
       " 'leap-persistent/timh37/era5_predictors/3hourly/wick-wic-gbr-bodc_era5Predictors_5x5.nc']"
      ]
     },
     "execution_count": 5,
     "metadata": {},
     "output_type": "execute_result"
    }
   ],
   "source": [
    "for file in os.listdir(in_path):\n",
    "    if file.startswith('.') == False:\n",
    "        print(file)\n",
    "        fn = os.path.join(in_path,file)\n",
    "        ds  = xr.open_dataset(fn)\n",
    "        ds['tg'] = ds['tg'].astype('str')\n",
    "        ds.to_zarr(os.path.join(cloud_path,file),mode='w')\n",
    "fs.ls(cloud_path)"
   ]
  },
  {
   "cell_type": "code",
   "execution_count": null,
   "id": "e3e2c72a-4d60-4e94-af54-017a26234c30",
   "metadata": {},
   "outputs": [],
   "source": []
  }
 ],
 "metadata": {
  "kernelspec": {
   "display_name": "Python 3 (ipykernel)",
   "language": "python",
   "name": "python3"
  },
  "language_info": {
   "codemirror_mode": {
    "name": "ipython",
    "version": 3
   },
   "file_extension": ".py",
   "mimetype": "text/x-python",
   "name": "python",
   "nbconvert_exporter": "python",
   "pygments_lexer": "ipython3",
   "version": "3.10.10"
  }
 },
 "nbformat": 4,
 "nbformat_minor": 5
}
