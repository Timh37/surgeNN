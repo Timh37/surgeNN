{
 "cells": [
  {
   "cell_type": "code",
   "execution_count": 1,
   "id": "680c232e-f2a9-4751-9416-6eba6adee8d3",
   "metadata": {},
   "outputs": [
    {
     "name": "stderr",
     "output_type": "stream",
     "text": [
      "2025-07-09 11:03:00.067181: I tensorflow/core/platform/cpu_feature_guard.cc:193] This TensorFlow binary is optimized with oneAPI Deep Neural Network Library (oneDNN) to use the following CPU instructions in performance-critical operations:  SSE4.1 SSE4.2 AVX AVX2 AVX512F AVX512_VNNI FMA\n",
      "To enable them in other operations, rebuild TensorFlow with the appropriate compiler flags.\n",
      "2025-07-09 11:03:00.146462: I tensorflow/core/util/port.cc:104] oneDNN custom operations are on. You may see slightly different numerical results due to floating-point round-off errors from different computation orders. To turn them off, set the environment variable `TF_ENABLE_ONEDNN_OPTS=0`.\n"
     ]
    }
   ],
   "source": [
    "import xarray as xr\n",
    "import numpy as np\n",
    "import os\n",
    "from surgeNN import io, preprocessing\n",
    "from surgeNN.evaluation import add_error_metrics_to_prediction_ds\n",
    "from surgeNN.models import train_gssr_mlr, predict_gssr_mlr\n",
    "from tqdm import tqdm\n",
    "#MLR version of train_and_predict.py for neural networks"
   ]
  },
  {
   "cell_type": "markdown",
   "id": "04039e44-4e82-455e-b417-3dc0dff548b2",
   "metadata": {},
   "source": [
    "Configure the script:"
   ]
  },
  {
   "cell_type": "code",
   "execution_count": 2,
   "id": "b4bb50d9-5b70-4507-a1e2-d22b5b9863a7",
   "metadata": {},
   "outputs": [],
   "source": [
    "tgs        = ['stavanger-svg-nor-nhs.csv','wick-wic-gbr-bodc.csv','esbjerg-esb-dnk-dmi.csv',\n",
    "                  'immingham-imm-gbr-bodc.csv','den_helder-denhdr-nld-rws.csv', 'fishguard-fis-gbr-bodc.csv',  \n",
    "                  'brest-822a-fra-uhslc.csv', 'vigo-vigo-esp-ieo.csv',  'alicante_i_outer_harbour-alio-esp-da_mm.csv']\n",
    "tgs = ['den_helder-denhdr-nld-rws.csv']\n",
    "temp_freq = 3 # [hours] temporal frequency to use\n",
    "predictor_degrees   = 4.5 #n x n grid cells around tide gauge of predictor data to use\n",
    "\n",
    "this_n_steps = 9\n",
    "\n",
    "predictor_vars = ['msl','u10','v10',\n",
    "            'u10_sqd','v10_sqd',\n",
    "            'u10_cbd','v10_cbd'] #variables to use\n",
    "\n",
    "predictor_path  = 'gs://leap-persistent/timh37/era5_predictors/3hourly/'\n",
    "predictand_path = '/home/jovyan/test_surge_models/input/t_tide_3h_hourly_deseasoned_predictands'\n",
    "output_dir = '/home/jovyan/test_surge_models/results/mlr_4p5x4p5_v2/' #where to store the results\n",
    "\n",
    "split_fractions = [.6,.2,.2] #train, test, val"
   ]
  },
  {
   "cell_type": "markdown",
   "id": "d7ce2d23-377b-4e8d-969f-39e6a55326e2",
   "metadata": {},
   "source": [
    "Load in & preprocess data:"
   ]
  },
  {
   "cell_type": "code",
   "execution_count": 3,
   "id": "f5a271c9-2f01-4e42-9868-fdc198bfa69b",
   "metadata": {
    "tags": []
   },
   "outputs": [
    {
     "name": "stderr",
     "output_type": "stream",
     "text": [
      "100%|██████████| 1/1 [00:59<00:00, 59.38s/it]\n"
     ]
    }
   ],
   "source": [
    "for tg in tqdm(tgs): #loop over TGs\n",
    "    #load & process predictors\n",
    "    n_cells = int(predictor_degrees * (4/1)) #determine how many grid cells around TG to use (era5 resolution = 0.25 degree)\n",
    "        \n",
    "    predictors = io.Predictor(predictor_path)\n",
    "    predictors.open_dataset(tg,['msl','u10','v10'],n_cells)\n",
    "    predictors.trim_years(1979,2017)\n",
    "    \n",
    "    for var in predictor_vars: #add higher order predictors\n",
    "        if '_sqd' in var:\n",
    "            predictors.data[var] = predictors.data[var.split('_')[0]]**2\n",
    "        elif '_cbd' in var:\n",
    "            predictors.data[var] = predictors.data[var.split('_')[0]]**3\n",
    "        else:\n",
    "            continue\n",
    "    \n",
    "    predictors.subtract_annual_means()\n",
    "    predictors.deseasonalize()\n",
    "\n",
    "    #load & process predictands\n",
    "    predictand = io.Predictand(predictand_path)\n",
    "    predictand.open_dataset(tg)\n",
    "    predictand.trim_dates(predictors.data.time.isel(time=0).values,predictors.data.time.isel(time=-1).values)\n",
    "    predictand.deseasonalize()\n",
    "    predictand.resample_fillna(str(temp_freq)+'h')\n",
    "   \n",
    "    model_input = preprocessing.Input(predictors,predictand,'convlstm')\n",
    "    model_input.predictors['stacked'] = model_input.predictors['stacked'].transpose(\"time\",\"var\",\"lon_around_tg\",...)\n",
    "    \n",
    "    model_input.split_stratified(split_fractions,this_n_steps,7,0,'99pct')\n",
    "    y_train_mean,y_train_sd = model_input.standardize()\n",
    "\n",
    "    #model_input.compute_denseloss_weights(0) #generate the Denseloss weights for each split\n",
    "\n",
    "    x_train,y_train = model_input.get_windowed_filtered_np_input('train',this_n_steps) #generate input for neural network model\n",
    "    x_val,y_val     = model_input.get_windowed_filtered_np_input('val',this_n_steps)\n",
    "    x_test,y_test   = model_input.get_windowed_filtered_np_input('test',this_n_steps)\n",
    "  \n",
    "    x_train,x_val,x_test = [np.reshape(k,(k.shape[0],np.prod(k.shape[1::]))) for k in [x_train,x_val,x_test]]\n",
    "    o_train,o_val,o_test = [y_train_sd * k + y_train_mean for k in [y_train,y_val,y_test]] #back-transform observations\n",
    "    \n",
    "    mlr_coefs,train_components = train_gssr_mlr(x_train,y_train)\n",
    "    \n",
    "    #store model\n",
    "    coef_ds = xr.Dataset(data_vars=dict(mlr_coefs=(['tg','coef'],mlr_coefs[np.newaxis,:])),\n",
    "            coords=dict(coef=np.arange(len(mlr_coefs)),tg=[tg]),)\n",
    "    \n",
    "    my_fn = 'mlr'+'_'+str(predictor_degrees).replace('.','p')+'x'+str(predictor_degrees).replace('.','p')+'_'+str(temp_freq)+'h_'+tg.replace('.csv','')\n",
    "    #coef_ds.to_netcdf(os.path.join(output_dir,'mlr_models',my_fn+'_gssr_mlr_coefs.nc'))\n",
    "\n",
    "    #store pc spatial patterns into netcdf\n",
    "    components_ds = xr.Dataset(data_vars=dict(component=(['tg','pc','f'],train_components[np.newaxis,:,:])),\n",
    "        coords=dict(tg=[tg],pc=np.arange(train_components.shape[0]),f=np.arange(x_train.shape[-1])),)\n",
    "\n",
    "    #components_ds.to_netcdf(os.path.join(output_dir,'mlr_models',my_fn+'_gssr_mlr_pca_components.nc'))\n",
    "\n",
    "    prediction_val,prediction_val_components = predict_gssr_mlr(x_val,mlr_coefs,train_components,predictor_vars,this_n_steps)\n",
    "    prediction_test,prediction_test_components = predict_gssr_mlr(x_test,mlr_coefs,train_components,predictor_vars,this_n_steps)\n",
    "\n",
    "    #make predictions & back-transform        \n",
    "    yhat_val = prediction_val*y_train_sd + y_train_mean\n",
    "    yhat_test = prediction_test*y_train_sd + y_train_mean\n",
    "\n",
    "    #store into xr dataset\n",
    "    ds_val = xr.Dataset(data_vars=dict(o=([\"time\"], o_val),yhat=([\"time\"], yhat_val)),\n",
    "    coords=dict(time=model_input.t_val,),attrs=dict(description=\"MLR prediction performance.\"),)\n",
    "    \n",
    "    ds_test = xr.Dataset(data_vars=dict(o=([\"time\"], o_test),yhat=([\"time\"], yhat_test)),\n",
    "    coords=dict(time=model_input.t_test,),attrs=dict(description=\"MLR prediction performance.\"),)\n",
    "\n",
    "    out_ds = xr.concat((ds_val,ds_test),dim='split',coords='different') #concatenate results for each split\n",
    "    out_ds = out_ds.assign_coords(split = ['val','test'])\n",
    "\n",
    "    #concatenate across runs & compute statistics\n",
    "    out_ds = add_error_metrics_to_prediction_ds(out_ds,[.95,.98,.99,.995],3)\n",
    "\n",
    "    out_ds = out_ds.assign_coords(tg = np.array([tg]))\n",
    "\n",
    "    out_ds = out_ds.assign_coords(lon = ('tg',np.array([predictand.data['lon'].values[0]])))\n",
    "    out_ds = out_ds.assign_coords(lat = ('tg',np.array([predictand.data['lat'].values[0]])))\n",
    "\n",
    "    out_ds.attrs['temp_freq'] = temp_freq\n",
    "    out_ds.attrs['n_cells'] = n_cells\n",
    "\n",
    "    my_path = os.path.join(output_dir,'performance')\n",
    "    my_fn = 'mlr'+'_'+str(predictor_degrees).replace('.','p')+'x'+str(predictor_degrees).replace('.','p')+'_'+str(temp_freq)+'h_'+tg.replace('.csv','')\n",
    "\n",
    "    #out_ds.to_netcdf(os.path.join(my_path,my_fn+'.nc'),mode='w')"
   ]
  },
  {
   "cell_type": "code",
   "execution_count": null,
   "id": "1b91bfe4-253c-4232-9cf3-5e06e3edddb7",
   "metadata": {},
   "outputs": [],
   "source": []
  }
 ],
 "metadata": {
  "kernelspec": {
   "display_name": "Python 3 (ipykernel)",
   "language": "python",
   "name": "python3"
  },
  "language_info": {
   "codemirror_mode": {
    "name": "ipython",
    "version": 3
   },
   "file_extension": ".py",
   "mimetype": "text/x-python",
   "name": "python",
   "nbconvert_exporter": "python",
   "pygments_lexer": "ipython3",
   "version": "3.10.10"
  }
 },
 "nbformat": 4,
 "nbformat_minor": 5
}
